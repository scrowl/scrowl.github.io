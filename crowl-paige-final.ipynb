{
 "cells": [
  {
   "cell_type": "code",
   "execution_count": 1,
   "metadata": {},
   "outputs": [],
   "source": [
    "# Usual imports.\n",
    "import pandas as pd\n",
    "import bqplot\n",
    "import numpy as np\n",
    "import traitlets\n",
    "import ipywidgets\n",
    "import matplotlib.pyplot as plt\n",
    "%matplotlib inline"
   ]
  },
  {
   "cell_type": "code",
   "execution_count": 2,
   "metadata": {},
   "outputs": [],
   "source": [
    "# Read in our data.\n",
    "aids = pd.read_csv(\"aids.csv\")"
   ]
  },
  {
   "cell_type": "code",
   "execution_count": 3,
   "metadata": {},
   "outputs": [],
   "source": [
    "# Let's make a list of all the country names.\n",
    "countries = [1, 2, 3]\n",
    "countries = aids['Country'].iloc[0:99]\n",
    "countries = countries.values"
   ]
  },
  {
   "cell_type": "code",
   "execution_count": 4,
   "metadata": {
    "scrolled": false
   },
   "outputs": [],
   "source": [
    "# Here I reuse my code from Part 2, and add my static images.\n",
    "\n",
    "# Set x and y values.\n",
    "x = range(1990, 2016)\n",
    "y1 = aids[aids['Country'] == 'Afghanistan'][\"Total\"]\n",
    "y2 = aids[aids['Country'] == 'Afghanistan'][\"New HIV Infections.All Ages\"]\n",
    "y3 = aids[aids['Country'] == 'Afghanistan'][\"AIDS-Related Deaths.All Ages\"]\n",
    "\n",
    "# Set the scale.\n",
    "x_sc = bqplot.LinearScale()\n",
    "y_sc1 = bqplot.LinearScale()\n",
    "y_sc2 = bqplot.LinearScale()\n",
    "y_sc3 = bqplot.LinearScale()\n",
    "\n",
    "# Set our axes.\n",
    "x_ax = bqplot.Axis(scale = x_sc, label = 'Year')\n",
    "y_ax1 = bqplot.Axis(scale = y_sc1, label = 'Total Living with AIDS', orientation = 'vertical')\n",
    "y_ax2 = bqplot.Axis(scale = y_sc2, label = 'New HIV Infections', orientation = 'vertical')\n",
    "y_ax3 = bqplot.Axis(scale = y_sc3, label = 'AIDS-Related Deaths', orientation = 'vertical')\n",
    "\n",
    "# Tooltip.\n",
    "tt1 = bqplot.Tooltip(fields=['x', 'y'], \n",
    "                    labels=['Year', 'Total Living with AIDS in That Year'])\n",
    "\n",
    "tt2 = bqplot.Tooltip(fields=['x', 'y'], \n",
    "                    labels=['Year', 'New HIV Infections in That Year'])\n",
    "\n",
    "tt3 = bqplot.Tooltip(fields=['x', 'y'], \n",
    "                    labels=['Year', 'AIDS-Related Deaths in That Year'])\n",
    "\n",
    "# Scatters.\n",
    "scatters1 = bqplot.Scatter(x = x,\n",
    "                          y = y1,\n",
    "                          scales = {'x': x_sc, 'y': y_sc1},\n",
    "                          tooltip = tt1)\n",
    "\n",
    "scatters2 = bqplot.Scatter(x = x,\n",
    "                          y = y2,\n",
    "                          scales = {'x': x_sc, 'y': y_sc2},\n",
    "                          tooltip = tt2)\n",
    "\n",
    "scatters3 = bqplot.Scatter(x = x,\n",
    "                          y = y3,\n",
    "                          scales = {'x': x_sc, 'y': y_sc3},\n",
    "                          tooltip = tt3)\n",
    "\n",
    "# Generate figures.\n",
    "fig1 = bqplot.Figure(marks = [scatters1], \n",
    "                    axes = [x_ax, y_ax1],\n",
    "                    title = \"Persons Living with AIDS\") \n",
    "\n",
    "fig2 = bqplot.Figure(marks = [scatters2], \n",
    "                    axes = [x_ax, y_ax2],\n",
    "                    title = \"New HIV Infections\")\n",
    "\n",
    "fig5 = bqplot.Figure(marks = [scatters3], \n",
    "                    axes = [x_ax, y_ax3],\n",
    "                    title = \"AIDS-Related Deaths\")\n",
    "\n",
    "def update_plot(message):\n",
    "        #print(dd.value)\n",
    "        if message['name'] == 'value':\n",
    "            #gen_plot(x, dd.value)\n",
    "            y1 = aids[aids['Country'] == dd.value][\"Total\"]\n",
    "            scatters1.y = y1\n",
    "            y2 = aids[aids['Country'] == dd.value][\"New HIV Infections.All Ages\"]\n",
    "            scatters2.y = y2\n",
    "            #print_data()\n",
    "            y3 = aids[aids['Country'] == dd.value][\"AIDS-Related Deaths.All Ages\"]\n",
    "            scatters3.y = y3\n",
    "            \n",
    "# Drop-down.\n",
    "dd = ipywidgets.Dropdown(\n",
    "    options = countries,\n",
    "    description = 'Country')\n",
    "\n",
    "# Note: I borrowed the code for having an image be part of a bqplot figure from here: https://github.com/bloomberg/bqplot/blob/master/examples/Marks/Object%20Model/Image.ipynb\n",
    "\n",
    "# Figure 3.\n",
    "with open(\"AIDSimg.PNG\", 'rb') as f:\n",
    "    raw_image = f.read()\n",
    "ipyimage = ipywidgets.Image(value=raw_image, format='jpg')\n",
    "\n",
    "# Set the scale.\n",
    "x_sc = bqplot.LinearScale()\n",
    "y_sc = bqplot.LinearScale()\n",
    "\n",
    "# Create image.\n",
    "image = bqplot.Image(image = ipyimage,\n",
    "             scales = {'x': x_sc, 'y': y_sc})\n",
    "\n",
    "# Generate figure.\n",
    "fig3 = bqplot.Figure(title='Global Trend of New HIV Infections', marks=[image])\n",
    "fig3.layout.width = '1000px'\n",
    "fig3.layout.height = '700px'\n",
    "\n",
    "# Figure 4.\n",
    "with open(\"AIDSimg2.PNG\", 'rb') as f:\n",
    "    raw_image = f.read()\n",
    "ipyimage2 = ipywidgets.Image(value=raw_image, format='jpg')\n",
    "\n",
    "# Set the scale.\n",
    "x_sc = bqplot.LinearScale()\n",
    "y_sc = bqplot.LinearScale()\n",
    "\n",
    "# Create image.\n",
    "image2 = bqplot.Image(image = ipyimage2,\n",
    "             scales = {'x': x_sc, 'y': y_sc})\n",
    "\n",
    "# Generate figure.\n",
    "fig4 = bqplot.Figure(title='Global HIV Expenditure', marks=[image2])\n",
    "fig4.layout.width = '1000px'\n",
    "fig4.layout.height = '650px'\n",
    "\n",
    "dd.observe(update_plot, 'value')\n",
    "\n",
    "one_box = ipywidgets.VBox([fig3])\n",
    "two_box = ipywidgets.HBox([dd])\n",
    "three_box = ipywidgets.HBox([fig1])\n",
    "four_box = ipywidgets.HBox([fig2, fig5])"
   ]
  },
  {
   "cell_type": "markdown",
   "metadata": {},
   "source": [
    "# The HIV/AIDS Information Dashboard\n",
    "### Created by: Paige Crowl\n",
    "\n",
    "Welcome to the HIV/AIDS information dashboard! This piece was created using data from the UN Aidsinfo Project, found [here](http://aidsinfo.unaids.org/). The data is offered free of charge for download on their webside, with the only stipulation that its source be cited. The static image is a selections from the UN's visualizations of their data, which is a wonderful place to find all kinds of information about the progress of the fight against HIV/AIDS all over the world. The one I selected to highlight can be found under the tab for \"Trend of new HIV infections\", but I highly recommend exploring their data, especially their map visualizations, further."
   ]
  },
  {
   "cell_type": "markdown",
   "metadata": {},
   "source": [
    "### Some Information to Know About the \"Global Trend of New HIV Infections\" Image\n",
    "This image is a plot of the estimate of new HIV infections globally, based on UNAIDS estimates from the year 2018. The connected \"points\" represent the UN's best estimates of the number of new HIV infections in that year, and the light blue ranges represent the upper (aggressive) and lower (conservative) estimates of the number of new infections. For more information, please follow [this link](http://aidsinfo.unaids.org/?did=5b4e7dc0dddb54192bb396e4&r=world&t=null&tb=g&bt=ggli&ts=0,0&gid=5b4e7dc0dddb54192bb396e4&gr=) to the interactive plot on the UNaids website."
   ]
  },
  {
   "cell_type": "code",
   "execution_count": 5,
   "metadata": {},
   "outputs": [
    {
     "data": {
      "application/vnd.jupyter.widget-view+json": {
       "model_id": "5e8fc06f442d41e798ee2e9bef81ec74",
       "version_major": 2,
       "version_minor": 0
      },
      "text/plain": [
       "VBox(children=(VBox(children=(Figure(fig_margin={'top': 60, 'bottom': 60, 'left': 60, 'right': 60}, layout=Lay…"
      ]
     },
     "metadata": {},
     "output_type": "display_data"
    }
   ],
   "source": [
    "ipywidgets.VBox([one_box])"
   ]
  },
  {
   "cell_type": "markdown",
   "metadata": {},
   "source": [
    "### Some Information to Know About the Three Interactive Graphs - \"Persons Living with AIDS\", \"New HIV Infections\", and \"AIDS-Related Deaths\"\n",
    "Note that these plots does not estimate total infections or deaths - only reported infections and deaths are included. Hover over a data point to see the exact number of people affected in that year. Please also note that not all countries are included in this dataset.\n",
    "\n",
    "#### What To Look For In These Graphs\n",
    "To use the interactive dashboard, simply select a country from the drop-down menu. Use this dashboard to explore the trends in how HIV/AIDS is affecting lives in various countries. Within the dashboard, use the \"New HIV Infections\" and \"AIDS-Related Deaths\" graphs to understand how the total population of people living with AIDS changes over time. Look for countries that have overall in both new infections and deaths to identify those that are responding well to the AIDS crisis."
   ]
  },
  {
   "cell_type": "code",
   "execution_count": 6,
   "metadata": {
    "scrolled": false
   },
   "outputs": [
    {
     "data": {
      "application/vnd.jupyter.widget-view+json": {
       "model_id": "0ef6225cfbca4a0caf432b5b66e3c793",
       "version_major": 2,
       "version_minor": 0
      },
      "text/plain": [
       "VBox(children=(HBox(children=(Dropdown(description='Country', options=('Afghanistan', 'Algeria', 'Angola', 'Ar…"
      ]
     },
     "metadata": {},
     "output_type": "display_data"
    }
   ],
   "source": [
    "ipywidgets.VBox([two_box, three_box, four_box])"
   ]
  },
  {
   "cell_type": "code",
   "execution_count": null,
   "metadata": {},
   "outputs": [],
   "source": []
  }
 ],
 "metadata": {
  "kernelspec": {
   "display_name": "Python 3",
   "language": "python",
   "name": "python3"
  },
  "language_info": {
   "codemirror_mode": {
    "name": "ipython",
    "version": 3
   },
   "file_extension": ".py",
   "mimetype": "text/x-python",
   "name": "python",
   "nbconvert_exporter": "python",
   "pygments_lexer": "ipython3",
   "version": "3.7.1"
  }
 },
 "nbformat": 4,
 "nbformat_minor": 2
}
