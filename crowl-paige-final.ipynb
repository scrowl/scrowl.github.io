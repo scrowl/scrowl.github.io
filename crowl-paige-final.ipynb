{
 "cells": [
  {
   "cell_type": "code",
   "execution_count": 1,
   "metadata": {},
   "outputs": [],
   "source": [
    "# Usual imports.\n",
    "import pandas as pd\n",
    "import bqplot\n",
    "import numpy as np\n",
    "import traitlets\n",
    "import ipywidgets\n",
    "import matplotlib.pyplot as plt\n",
    "%matplotlib inline"
   ]
  },
  {
   "cell_type": "code",
   "execution_count": 2,
   "metadata": {},
   "outputs": [],
   "source": [
    "# Read in our data.\n",
    "aids = pd.read_csv(\"aids.csv\")"
   ]
  },
  {
   "cell_type": "code",
   "execution_count": 3,
   "metadata": {},
   "outputs": [],
   "source": [
    "# Let's make a list of all the country names.\n",
    "countries = [1, 2, 3]\n",
    "countries = aids['Country'].iloc[0:99]\n",
    "countries = countries.values"
   ]
  },
  {
   "cell_type": "code",
   "execution_count": 6,
   "metadata": {
    "scrolled": false
   },
   "outputs": [],
   "source": [
    "# Here I reuse my code from Part 2, and add my static images.\n",
    "\n",
    "# Set x and y values.\n",
    "x = range(1990, 2016)\n",
    "y1 = aids[aids['Country'] == 'Afghanistan'][\"Total\"]\n",
    "y2 = aids[aids['Country'] == 'Afghanistan'][\"New HIV Infections.All Ages\"]\n",
    "\n",
    "# Set the scale.\n",
    "x_sc = bqplot.LinearScale()\n",
    "y_sc = bqplot.LinearScale()\n",
    "\n",
    "# Set our axes.\n",
    "x_ax = bqplot.Axis(scale = x_sc, label = 'Year')\n",
    "y_ax1 = bqplot.Axis(scale = y_sc, label = 'Total Living with AIDS', orientation = 'vertical')\n",
    "y_ax2 = bqplot.Axis(scale = y_sc, label = 'New HIV Infections', orientation = 'vertical')\n",
    "\n",
    "# Tooltip.\n",
    "tt1 = bqplot.Tooltip(fields=['x', 'y'], \n",
    "                    labels=['Year', 'Total Living with AIDS in That Year'])\n",
    "\n",
    "tt2 = bqplot.Tooltip(fields=['x', 'y'], \n",
    "                    labels=['Year', 'New HIV Infections in That Year'])\n",
    "\n",
    "# Scatters.\n",
    "scatters1 = bqplot.Scatter(x = x,\n",
    "                          y = y1,\n",
    "                          scales = {'x': x_sc, 'y': y_sc},\n",
    "                          tooltip = tt1)\n",
    "\n",
    "scatters2 = bqplot.Scatter(x = x,\n",
    "                          y = y2,\n",
    "                          scales = {'x': x_sc, 'y': y_sc},\n",
    "                          tooltip = tt2)\n",
    "\n",
    "# Generate figures.\n",
    "fig1 = bqplot.Figure(marks = [scatters1], \n",
    "                    axes = [x_ax, y_ax1],\n",
    "                    title = \"Persons Living with AIDS\") \n",
    "\n",
    "fig2 = bqplot.Figure(marks = [scatters2], \n",
    "                    axes = [x_ax, y_ax2],\n",
    "                    title = \"New HIV Infections\")\n",
    "\n",
    "def update_plot(message):\n",
    "        #print(dd.value)\n",
    "        if message['name'] == 'value':\n",
    "            #gen_plot(x, dd.value)\n",
    "            y1 = aids[aids['Country'] == dd.value][\"Total\"]\n",
    "            scatters1.y = y1\n",
    "            y2 = aids[aids['Country'] == dd.value][\"New HIV Infections.All Ages\"]\n",
    "            scatters2.y = y2\n",
    "            #print_data()\n",
    "            \n",
    "# Drop-down.\n",
    "dd = ipywidgets.Dropdown(\n",
    "    options = countries,\n",
    "    description = 'Country')\n",
    "\n",
    "# Note: I borrowed the code for having an image be part of a bqplot figure from here: https://github.com/bloomberg/bqplot/blob/master/examples/Marks/Object%20Model/Image.ipynb\n",
    "\n",
    "# Figure 3.\n",
    "with open(\"AIDSimg.png\", 'rb') as f:\n",
    "    raw_image = f.read()\n",
    "ipyimage = ipywidgets.Image(value=raw_image, format='jpg')\n",
    "\n",
    "# Set the scale.\n",
    "x_sc = bqplot.LinearScale()\n",
    "y_sc = bqplot.LinearScale()\n",
    "\n",
    "# Create image.\n",
    "image = bqplot.Image(image = ipyimage,\n",
    "             scales = {'x': x_sc, 'y': y_sc})\n",
    "\n",
    "# Generate figure.\n",
    "fig3 = bqplot.Figure(title='Global Trend of New HIV Infections', marks=[image])\n",
    "fig3.layout.width = '1000px'\n",
    "fig3.layout.height = '700px'\n",
    "\n",
    "# Figure 4.\n",
    "with open(\"AIDSimg2.png\", 'rb') as f:\n",
    "    raw_image = f.read()\n",
    "ipyimage2 = ipywidgets.Image(value=raw_image, format='jpg')\n",
    "\n",
    "# Set the scale.\n",
    "x_sc = bqplot.LinearScale()\n",
    "y_sc = bqplot.LinearScale()\n",
    "\n",
    "# Create image.\n",
    "image2 = bqplot.Image(image = ipyimage2,\n",
    "             scales = {'x': x_sc, 'y': y_sc})\n",
    "\n",
    "# Generate figure.\n",
    "fig4 = bqplot.Figure(title='Global HIV Expenditure', marks=[image2])\n",
    "fig4.layout.width = '1000px'\n",
    "fig4.layout.height = '650px'\n",
    "\n",
    "dd.observe(update_plot, 'value')"
   ]
  },
  {
   "cell_type": "markdown",
   "metadata": {},
   "source": [
    "# The HIV/AIDS Information Dashboard\n",
    "### Created by: Paige Crowl\n",
    "\n",
    "Welcome to the HIV/AIDS information dashboard! This piece was created using data from the UN Aidsinfo Project, found [here](http://aidsinfo.unaids.org/). The data is offered free of charge for download on their webside, with the only stipulation that its source be cited. The two static images are selections from the UN's visualizations of their data, which is a wonderful place to find all kinds of information about the progress of the fight against HIV/AIDS all over the world. The two I selected to highlight can be found under the tabs for \"Trend of new HIV infections\" and \"Global expenditure\", but I highly recommend exploring their data, especially their map visualizations, further.\n",
    "\n",
    "#### Some information to know about the \"Global Trend of New HIV Infections\" image\n",
    "This image is a plot of the estimate of new HIV infections globally, based on UNAIDS estimates from the year 2018. The connected \"points\" represent the UN's best estimates of the number of new HIV infections in that year, and the light blue ranges represent the upper (aggressive) and lower (conservative) estimates of the number of new infections. For more information, please follow [this link](http://aidsinfo.unaids.org/?did=5b4e7dc0dddb54192bb396e4&r=world&t=null&tb=g&bt=ggli&ts=0,0&gid=5b4e7dc0dddb54192bb396e4&gr=) to the interactive plot on the UNaids website.\n",
    "\n",
    "#### Some information to know about the \"Global HIV Expenditure\" image\n",
    "This image is a plot of the estimate of the resources available to low- and middle-income countries to fight HIV/AIDS, based on UNAIDS estimates from the year 2017. For more information, please follow [this link](http://aidsinfo.unaids.org/?did=5971cf3e5207baf123d5f1e5&r=world&t=null&tb=g&bt=ggli&ts=0,0&gid=5971cf3e5207baf123d5f1e5) to the interactive plot on the UNaids website.\n",
    "\n",
    "#### Some information to know about the two interactive graphs - \"Persons Living with AIDS\" and \"New HIV Infections\"\n",
    "To use the interactive dashboard, simply select a country from the drop-down menu to see the total number of people living with HIV/AIDS as well as number of new reported HIV infections in that country. Note that this plot does not estimate total infections, only reported ones. Hover over a data point to see the exact number of people affected in that year. Please also note that not all countries are included in this dataset."
   ]
  },
  {
   "cell_type": "code",
   "execution_count": 7,
   "metadata": {
    "scrolled": false
   },
   "outputs": [
    {
     "data": {
      "application/vnd.jupyter.widget-view+json": {
       "model_id": "0a43451713f64f0e86a5b46c29485295",
       "version_major": 2,
       "version_minor": 0
      },
      "text/plain": [
       "GridBox(children=(Figure(fig_margin={'top': 60, 'bottom': 60, 'left': 60, 'right': 60}, layout=Layout(height='…"
      ]
     },
     "metadata": {},
     "output_type": "display_data"
    }
   ],
   "source": [
    "ipywidgets.GridBox([fig3, fig4, dd, fig1, fig2])"
   ]
  },
  {
   "cell_type": "code",
   "execution_count": null,
   "metadata": {},
   "outputs": [],
   "source": []
  }
 ],
 "metadata": {
  "kernelspec": {
   "display_name": "Python 3",
   "language": "python",
   "name": "python3"
  },
  "language_info": {
   "codemirror_mode": {
    "name": "ipython",
    "version": 3
   },
   "file_extension": ".py",
   "mimetype": "text/x-python",
   "name": "python",
   "nbconvert_exporter": "python",
   "pygments_lexer": "ipython3",
   "version": "3.7.1"
  }
 },
 "nbformat": 4,
 "nbformat_minor": 2
}
